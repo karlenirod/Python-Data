{
  "nbformat": 4,
  "nbformat_minor": 0,
  "metadata": {
    "colab": {
      "provenance": [],
      "include_colab_link": true
    },
    "kernelspec": {
      "name": "python3",
      "display_name": "Python 3"
    }
  },
  "cells": [
    {
      "cell_type": "markdown",
      "metadata": {
        "id": "view-in-github",
        "colab_type": "text"
      },
      "source": [
        "<a href=\"https://colab.research.google.com/github/karlenirod/Python-Data/blob/main/Python_Data_Basics.ipynb\" target=\"_parent\"><img src=\"https://colab.research.google.com/assets/colab-badge.svg\" alt=\"Open In Colab\"/></a>"
      ]
    },
    {
      "cell_type": "markdown",
      "metadata": {
        "id": "ltLP8L6npZE5"
      },
      "source": [
        "This notebook describes the very basics of python data analysis.  I'm using matplotlib and numpy here, but you might also be interested in packages like pandas."
      ]
    },
    {
      "cell_type": "code",
      "metadata": {
        "id": "D3jyTibnpBCb"
      },
      "source": [
        "#First thing to do is import some useful packages\n",
        "import numpy as np\n",
        "from matplotlib import pyplot as plt"
      ],
      "execution_count": null,
      "outputs": []
    },
    {
      "cell_type": "markdown",
      "metadata": {
        "id": "wmzT8fF_pX3r"
      },
      "source": [
        "We now have access to the numpy library and the pyplot package from matplotlib, a standard plotting routine."
      ]
    },
    {
      "cell_type": "markdown",
      "metadata": {
        "id": "te0Xaap4p0WL"
      },
      "source": [
        "Imagine we have some data:"
      ]
    },
    {
      "cell_type": "code",
      "source": [],
      "metadata": {
        "id": "3fhI_OlXGWGm"
      },
      "execution_count": null,
      "outputs": []
    },
    {
      "cell_type": "code",
      "metadata": {
        "id": "tv04_hHxpy_-"
      },
      "source": [
        "# create a list of data sets\n",
        "data = [1., 2., 3., 4., 3., 2.]\n",
        "data2 = [2, 4, 6, 8, 10, 12, 10]"
      ],
      "execution_count": null,
      "outputs": []
    },
    {
      "cell_type": "markdown",
      "metadata": {
        "id": "BMQGT_eKp-Ca"
      },
      "source": [
        "If we want to plot that data, we can do this:"
      ]
    },
    {
      "cell_type": "code",
      "metadata": {
        "id": "3kwoBybGqBLw",
        "colab": {
          "base_uri": "https://localhost:8080/",
          "height": 265
        },
        "outputId": "00ad4698-907c-4fb5-ff8c-e4c98c9f638f"
      },
      "source": [
        "# plot the data with lables and a legend\n",
        "plt.plot(data, '-o', label='Day')\n",
        "plt.plot(data2,'-o', label='Night')\n",
        "plt.legend();"
      ],
      "execution_count": null,
      "outputs": [
        {
          "output_type": "display_data",
          "data": {
            "image/png": "[encoded data removed]",
            "text/plain": [
              "<Figure size 432x288 with 1 Axes>"
            ]
          },
          "metadata": {
            "tags": [],
            "needs_background": "light"
          }
        }
      ]
    },
    {
      "cell_type": "code",
      "metadata": {
        "id": "j8iFaiMXBcUb",
        "colab": {
          "base_uri": "https://localhost:8080/",
          "height": 282
        },
        "outputId": "4020e572-f627-4e9f-a89a-00a61e0c1dda"
      },
      "source": [
        "\n",
        "plt.plot(data2,'-o', label='Night')"
      ],
      "execution_count": null,
      "outputs": [
        {
          "output_type": "execute_result",
          "data": {
            "text/plain": [
              "[<matplotlib.lines.Line2D at 0x7ffa68e7ce80>]"
            ]
          },
          "metadata": {
            "tags": []
          },
          "execution_count": 20
        },
        {
          "output_type": "display_data",
          "data": {
            "image/png": "[encoded data removed]",
            "text/plain": [
              "<Figure size 432x288 with 1 Axes>"
            ]
          },
          "metadata": {
            "tags": [],
            "needs_background": "light"
          }
        }
      ]
    },
    {
      "cell_type": "markdown",
      "metadata": {
        "id": "7kn4Q6k-qJ6n"
      },
      "source": [
        "If we wanted only points, we can do:"
      ]
    },
    {
      "cell_type": "code",
      "metadata": {
        "id": "LhM5eT5RqCh0",
        "colab": {
          "base_uri": "https://localhost:8080/",
          "height": 282
        },
        "outputId": "bcb174e9-3709-4d46-f496-c604472ee33a"
      },
      "source": [
        "plt.plot(data, '.')"
      ],
      "execution_count": null,
      "outputs": [
        {
          "output_type": "execute_result",
          "data": {
            "text/plain": [
              "[<matplotlib.lines.Line2D at 0x7ffa71263b38>]"
            ]
          },
          "metadata": {
            "tags": []
          },
          "execution_count": 5
        },
        {
          "output_type": "display_data",
          "data": {
            "image/png": "[encoded data removed]",
            "text/plain": [
              "<Figure size 432x288 with 1 Axes>"
            ]
          },
          "metadata": {
            "tags": [],
            "needs_background": "light"
          }
        }
      ]
    },
    {
      "cell_type": "markdown",
      "metadata": {
        "id": "5I_JbbSaqO91"
      },
      "source": [
        "And if you get stuck anywhere, just use google or ask for help!"
      ]
    },
    {
      "cell_type": "markdown",
      "metadata": {
        "id": "fXg9o3PKqVPi"
      },
      "source": [
        "Now suppose we want to calculate something about our data.  You can use numpy!"
      ]
    },
    {
      "cell_type": "code",
      "metadata": {
        "id": "aq5OqmwyqNx-",
        "colab": {
          "base_uri": "https://localhost:8080/",
          "height": 34
        },
        "outputId": "1a507e1f-36cf-4dba-ffd6-740a369d04a2"
      },
      "source": [
        "# calculate the mean, median and min\n",
        "np.mean(data)"
      ],
      "execution_count": null,
      "outputs": [
        {
          "output_type": "execute_result",
          "data": {
            "text/plain": [
              "2.5"
            ]
          },
          "metadata": {
            "tags": []
          },
          "execution_count": 6
        }
      ]
    },
    {
      "cell_type": "code",
      "metadata": {
        "id": "hsXXZKo0qcBC",
        "colab": {
          "base_uri": "https://localhost:8080/",
          "height": 34
        },
        "outputId": "a76fdfcf-bd1d-49d3-98d9-a15ff831c75e"
      },
      "source": [
        "np.median(data)"
      ],
      "execution_count": null,
      "outputs": [
        {
          "output_type": "execute_result",
          "data": {
            "text/plain": [
              "2.5"
            ]
          },
          "metadata": {
            "tags": []
          },
          "execution_count": 7
        }
      ]
    },
    {
      "cell_type": "code",
      "metadata": {
        "id": "4hE6n-zuqdNW",
        "colab": {
          "base_uri": "https://localhost:8080/",
          "height": 34
        },
        "outputId": "aab2e233-a88c-4902-820c-4f106c0231aa"
      },
      "source": [
        "np.min(data)"
      ],
      "execution_count": null,
      "outputs": [
        {
          "output_type": "execute_result",
          "data": {
            "text/plain": [
              "1.0"
            ]
          },
          "metadata": {
            "tags": []
          },
          "execution_count": 8
        }
      ]
    },
    {
      "cell_type": "markdown",
      "metadata": {
        "id": "6zCD6e1QqoNw"
      },
      "source": [
        "Many python notebook interpreters will use tab complete or pop up help if you leave the cursor sitting there long enough, so which can also be useful."
      ]
    },
    {
      "cell_type": "code",
      "metadata": {
        "id": "Gjm7oloQqln1",
        "colab": {
          "base_uri": "https://localhost:8080/",
          "height": 265
        },
        "outputId": "1486440d-7393-4005-c2d6-d98702000f62"
      },
      "source": [
        "# plot data as a histograb in the same chart\n",
        "plt.hist(data);\n",
        "plt.hist(data2);"
      ],
      "execution_count": null,
      "outputs": [
        {
          "output_type": "display_data",
          "data": {
            "image/png": "[encoded data removed]",
            "text/plain": [
              "<Figure size 432x288 with 1 Axes>"
            ]
          },
          "metadata": {
            "tags": [],
            "needs_background": "light"
          }
        }
      ]
    },
    {
      "cell_type": "code",
      "metadata": {
        "id": "sampe9Cl1jCw"
      },
      "source": [],
      "execution_count": null,
      "outputs": []
    }
  ]
}